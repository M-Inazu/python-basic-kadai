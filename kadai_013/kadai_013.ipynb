{
  "nbformat": 4,
  "nbformat_minor": 0,
  "metadata": {
    "colab": {
      "provenance": []
    },
    "kernelspec": {
      "name": "python3",
      "display_name": "Python 3"
    },
    "language_info": {
      "name": "python"
    }
  },
  "cells": [
    {
      "cell_type": "markdown",
      "source": [
        "#### 消費税を加えた計算結果を返す関数を記述する\n",
        "- 消費税を加えた計算結果\n",
        "- 「結果を返す関数」なので戻り値を使用する\n",
        "-  第1引数に商品の金額、第2引数に消費税（10%）を設定する\n"
      ],
      "metadata": {
        "id": "fkMdDRV69jBE"
      }
    },
    {
      "cell_type": "code",
      "source": [
        "\n",
        "# 結果は常に整数かつ小数点以下は切り捨て\n",
        "\n",
        "# mathモジュールをimport\n",
        "import math\n",
        "\n",
        "def calculate_price(price, tax_rate):\n",
        "    total = price * (1 + tax_rate)\n",
        "    # 小数点以下を切り捨て\n",
        "    cut_total = math.floor(total)\n",
        "    return cut_total\n",
        "\n",
        "calculate_price(99, 0.1)"
      ],
      "metadata": {
        "colab": {
          "base_uri": "https://localhost:8080/"
        },
        "id": "9Gy-a2819o6X",
        "outputId": "2fb27118-3404-4384-e11a-3b091d2ca3a4"
      },
      "execution_count": 25,
      "outputs": [
        {
          "output_type": "execute_result",
          "data": {
            "text/plain": [
              "108"
            ]
          },
          "metadata": {},
          "execution_count": 25
        }
      ]
    },
    {
      "cell_type": "code",
      "source": [
        "def calculate_price(price, tax_rate):\n",
        "    total = price * (1 + tax_rate)\n",
        "    # int型にすることで、整数かつ小数点以下を切り捨て\n",
        "    int_total = int(total)\n",
        "    return int_total\n",
        "\n",
        "calculate_price(99, 0.1)"
      ],
      "metadata": {
        "colab": {
          "base_uri": "https://localhost:8080/"
        },
        "id": "LEkNss7-GTiF",
        "outputId": "59725198-f600-4c50-dad9-60d1600bd96b"
      },
      "execution_count": 23,
      "outputs": [
        {
          "output_type": "execute_result",
          "data": {
            "text/plain": [
              "108"
            ]
          },
          "metadata": {},
          "execution_count": 23
        }
      ]
    }
  ]
}