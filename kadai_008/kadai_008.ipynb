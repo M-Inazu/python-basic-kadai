{
  "nbformat": 4,
  "nbformat_minor": 0,
  "metadata": {
    "colab": {
      "provenance": []
    },
    "kernelspec": {
      "name": "python3",
      "display_name": "Python 3"
    },
    "language_info": {
      "name": "python"
    }
  },
  "cells": [
    {
      "cell_type": "code",
      "execution_count": 2,
      "metadata": {
        "colab": {
          "base_uri": "https://localhost:8080/"
        },
        "id": "-KjO4Prjivnm",
        "outputId": "80ecdbe2-9da5-4855-b235-2eb0d7031985"
      },
      "outputs": [
        {
          "output_type": "stream",
          "name": "stdout",
          "text": [
            "Fizz\n"
          ]
        }
      ],
      "source": [
        "#ランダムな整数を利用するために、randomモジュールをインポート\n",
        "import random\n",
        "\n",
        "# 変数varに1～30までのランダムな整数を代入する\n",
        "# 変数varは正の整数である\n",
        "var = random.randint(1, 30)\n",
        "\n",
        "#変数varが、3の倍数の場合は「Fizz」を出力\n",
        "#・変数varが、5の倍数の場合は「Buzz」を出力\n",
        "#・変数varが、3の倍数と5の倍数の両方に該当する場合は「FizzBuzz」を出力\n",
        "#・上記のどの場合にも該当しない場合は、変数varの値を出力\n",
        "\n",
        "if var % 3 == 0 and var % 5 == 0:\n",
        "    print(\"FizzBuzz\")\n",
        "elif var % 3 == 0:\n",
        "    print(\"Fizz\")\n",
        "elif var % 5 == 0:\n",
        "    print(\"Buzz\")\n",
        "else:\n",
        "    print(var)\n",
        "\n"
      ]
    }
  ]
}