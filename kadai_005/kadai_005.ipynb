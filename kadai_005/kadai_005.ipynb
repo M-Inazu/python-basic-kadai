{
  "cells": [
    {
      "cell_type": "code",
      "execution_count": 6,
      "metadata": {
        "colab": {
          "base_uri": "https://localhost:8080/"
        },
        "id": "4EXiG-vkh6dQ",
        "outputId": "dd3a560a-0992-41e6-d718-632397fb1bde"
      },
      "outputs": [
        {
          "name": "stdout",
          "output_type": "stream",
          "text": [
            "75cm²\n"
          ]
        }
      ],
      "source": [
        "'''\n",
        "上辺：10cm\n",
        "下辺：20cm\n",
        "高さ：5cm\n",
        "\n",
        "公式：台形の面積 =（上辺＋下辺）× 高さ ÷ 2\n",
        "'''\n",
        "top_side = 10\n",
        "under_side = 20\n",
        "height = 5\n",
        "print(str(int((top_side + under_side) * height / 2)) + \"cm²\")\n"
      ]
    },
    {
      "cell_type": "code",
      "execution_count": null,
      "metadata": {
        "id": "j25Rl57TiJy5"
      },
      "outputs": [],
      "source": []
    }
  ],
  "metadata": {
    "colab": {
      "provenance": []
    },
    "kernelspec": {
      "display_name": "Python 3",
      "name": "python3"
    },
    "language_info": {
      "name": "python"
    }
  },
  "nbformat": 4,
  "nbformat_minor": 0
}
